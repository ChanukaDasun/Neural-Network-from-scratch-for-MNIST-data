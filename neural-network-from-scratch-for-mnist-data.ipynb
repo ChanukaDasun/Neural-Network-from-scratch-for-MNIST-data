{
 "cells": [
  {
   "cell_type": "code",
   "execution_count": 1,
   "id": "c0f4c7d1",
   "metadata": {
    "_cell_guid": "b1076dfc-b9ad-4769-8c92-a6c4dae69d19",
    "_uuid": "8f2839f25d086af736a60e9eeb907d3b93b6e0e5",
    "execution": {
     "iopub.execute_input": "2025-09-14T14:28:08.389459Z",
     "iopub.status.busy": "2025-09-14T14:28:08.389118Z",
     "iopub.status.idle": "2025-09-14T14:28:10.139994Z",
     "shell.execute_reply": "2025-09-14T14:28:10.139165Z"
    },
    "papermill": {
     "duration": 1.756346,
     "end_time": "2025-09-14T14:28:10.141553",
     "exception": false,
     "start_time": "2025-09-14T14:28:08.385207",
     "status": "completed"
    },
    "tags": []
   },
   "outputs": [],
   "source": [
    "import numpy as np\n",
    "import pandas as pd\n",
    "import matplotlib.pyplot as plt"
   ]
  },
  {
   "cell_type": "code",
   "execution_count": 2,
   "id": "55620473",
   "metadata": {
    "execution": {
     "iopub.execute_input": "2025-09-14T14:28:10.147883Z",
     "iopub.status.busy": "2025-09-14T14:28:10.147166Z",
     "iopub.status.idle": "2025-09-14T14:28:13.476565Z",
     "shell.execute_reply": "2025-09-14T14:28:13.475651Z"
    },
    "papermill": {
     "duration": 3.333574,
     "end_time": "2025-09-14T14:28:13.477892",
     "exception": false,
     "start_time": "2025-09-14T14:28:10.144318",
     "status": "completed"
    },
    "tags": []
   },
   "outputs": [
    {
     "data": {
      "text/html": [
       "<div>\n",
       "<style scoped>\n",
       "    .dataframe tbody tr th:only-of-type {\n",
       "        vertical-align: middle;\n",
       "    }\n",
       "\n",
       "    .dataframe tbody tr th {\n",
       "        vertical-align: top;\n",
       "    }\n",
       "\n",
       "    .dataframe thead th {\n",
       "        text-align: right;\n",
       "    }\n",
       "</style>\n",
       "<table border=\"1\" class=\"dataframe\">\n",
       "  <thead>\n",
       "    <tr style=\"text-align: right;\">\n",
       "      <th></th>\n",
       "      <th>label</th>\n",
       "      <th>pixel0</th>\n",
       "      <th>pixel1</th>\n",
       "      <th>pixel2</th>\n",
       "      <th>pixel3</th>\n",
       "      <th>pixel4</th>\n",
       "      <th>pixel5</th>\n",
       "      <th>pixel6</th>\n",
       "      <th>pixel7</th>\n",
       "      <th>pixel8</th>\n",
       "      <th>...</th>\n",
       "      <th>pixel774</th>\n",
       "      <th>pixel775</th>\n",
       "      <th>pixel776</th>\n",
       "      <th>pixel777</th>\n",
       "      <th>pixel778</th>\n",
       "      <th>pixel779</th>\n",
       "      <th>pixel780</th>\n",
       "      <th>pixel781</th>\n",
       "      <th>pixel782</th>\n",
       "      <th>pixel783</th>\n",
       "    </tr>\n",
       "  </thead>\n",
       "  <tbody>\n",
       "    <tr>\n",
       "      <th>0</th>\n",
       "      <td>1</td>\n",
       "      <td>0</td>\n",
       "      <td>0</td>\n",
       "      <td>0</td>\n",
       "      <td>0</td>\n",
       "      <td>0</td>\n",
       "      <td>0</td>\n",
       "      <td>0</td>\n",
       "      <td>0</td>\n",
       "      <td>0</td>\n",
       "      <td>...</td>\n",
       "      <td>0</td>\n",
       "      <td>0</td>\n",
       "      <td>0</td>\n",
       "      <td>0</td>\n",
       "      <td>0</td>\n",
       "      <td>0</td>\n",
       "      <td>0</td>\n",
       "      <td>0</td>\n",
       "      <td>0</td>\n",
       "      <td>0</td>\n",
       "    </tr>\n",
       "    <tr>\n",
       "      <th>1</th>\n",
       "      <td>0</td>\n",
       "      <td>0</td>\n",
       "      <td>0</td>\n",
       "      <td>0</td>\n",
       "      <td>0</td>\n",
       "      <td>0</td>\n",
       "      <td>0</td>\n",
       "      <td>0</td>\n",
       "      <td>0</td>\n",
       "      <td>0</td>\n",
       "      <td>...</td>\n",
       "      <td>0</td>\n",
       "      <td>0</td>\n",
       "      <td>0</td>\n",
       "      <td>0</td>\n",
       "      <td>0</td>\n",
       "      <td>0</td>\n",
       "      <td>0</td>\n",
       "      <td>0</td>\n",
       "      <td>0</td>\n",
       "      <td>0</td>\n",
       "    </tr>\n",
       "    <tr>\n",
       "      <th>2</th>\n",
       "      <td>1</td>\n",
       "      <td>0</td>\n",
       "      <td>0</td>\n",
       "      <td>0</td>\n",
       "      <td>0</td>\n",
       "      <td>0</td>\n",
       "      <td>0</td>\n",
       "      <td>0</td>\n",
       "      <td>0</td>\n",
       "      <td>0</td>\n",
       "      <td>...</td>\n",
       "      <td>0</td>\n",
       "      <td>0</td>\n",
       "      <td>0</td>\n",
       "      <td>0</td>\n",
       "      <td>0</td>\n",
       "      <td>0</td>\n",
       "      <td>0</td>\n",
       "      <td>0</td>\n",
       "      <td>0</td>\n",
       "      <td>0</td>\n",
       "    </tr>\n",
       "    <tr>\n",
       "      <th>3</th>\n",
       "      <td>4</td>\n",
       "      <td>0</td>\n",
       "      <td>0</td>\n",
       "      <td>0</td>\n",
       "      <td>0</td>\n",
       "      <td>0</td>\n",
       "      <td>0</td>\n",
       "      <td>0</td>\n",
       "      <td>0</td>\n",
       "      <td>0</td>\n",
       "      <td>...</td>\n",
       "      <td>0</td>\n",
       "      <td>0</td>\n",
       "      <td>0</td>\n",
       "      <td>0</td>\n",
       "      <td>0</td>\n",
       "      <td>0</td>\n",
       "      <td>0</td>\n",
       "      <td>0</td>\n",
       "      <td>0</td>\n",
       "      <td>0</td>\n",
       "    </tr>\n",
       "    <tr>\n",
       "      <th>4</th>\n",
       "      <td>0</td>\n",
       "      <td>0</td>\n",
       "      <td>0</td>\n",
       "      <td>0</td>\n",
       "      <td>0</td>\n",
       "      <td>0</td>\n",
       "      <td>0</td>\n",
       "      <td>0</td>\n",
       "      <td>0</td>\n",
       "      <td>0</td>\n",
       "      <td>...</td>\n",
       "      <td>0</td>\n",
       "      <td>0</td>\n",
       "      <td>0</td>\n",
       "      <td>0</td>\n",
       "      <td>0</td>\n",
       "      <td>0</td>\n",
       "      <td>0</td>\n",
       "      <td>0</td>\n",
       "      <td>0</td>\n",
       "      <td>0</td>\n",
       "    </tr>\n",
       "  </tbody>\n",
       "</table>\n",
       "<p>5 rows × 785 columns</p>\n",
       "</div>"
      ],
      "text/plain": [
       "   label  pixel0  pixel1  pixel2  pixel3  pixel4  pixel5  pixel6  pixel7  \\\n",
       "0      1       0       0       0       0       0       0       0       0   \n",
       "1      0       0       0       0       0       0       0       0       0   \n",
       "2      1       0       0       0       0       0       0       0       0   \n",
       "3      4       0       0       0       0       0       0       0       0   \n",
       "4      0       0       0       0       0       0       0       0       0   \n",
       "\n",
       "   pixel8  ...  pixel774  pixel775  pixel776  pixel777  pixel778  pixel779  \\\n",
       "0       0  ...         0         0         0         0         0         0   \n",
       "1       0  ...         0         0         0         0         0         0   \n",
       "2       0  ...         0         0         0         0         0         0   \n",
       "3       0  ...         0         0         0         0         0         0   \n",
       "4       0  ...         0         0         0         0         0         0   \n",
       "\n",
       "   pixel780  pixel781  pixel782  pixel783  \n",
       "0         0         0         0         0  \n",
       "1         0         0         0         0  \n",
       "2         0         0         0         0  \n",
       "3         0         0         0         0  \n",
       "4         0         0         0         0  \n",
       "\n",
       "[5 rows x 785 columns]"
      ]
     },
     "execution_count": 2,
     "metadata": {},
     "output_type": "execute_result"
    }
   ],
   "source": [
    "df = pd.read_csv(\"/kaggle/input/mnist-digit-recognizer/train.csv\")\n",
    "df.head()"
   ]
  },
  {
   "cell_type": "code",
   "execution_count": 3,
   "id": "294a4a6d",
   "metadata": {
    "execution": {
     "iopub.execute_input": "2025-09-14T14:28:13.484846Z",
     "iopub.status.busy": "2025-09-14T14:28:13.484125Z",
     "iopub.status.idle": "2025-09-14T14:28:13.629026Z",
     "shell.execute_reply": "2025-09-14T14:28:13.627944Z"
    },
    "papermill": {
     "duration": 0.14999,
     "end_time": "2025-09-14T14:28:13.630741",
     "exception": false,
     "start_time": "2025-09-14T14:28:13.480751",
     "status": "completed"
    },
    "tags": []
   },
   "outputs": [
    {
     "name": "stdout",
     "output_type": "stream",
     "text": [
      "(42000, 785)\n"
     ]
    }
   ],
   "source": [
    "# convert df into numpy array\n",
    "df = np.array(df)\n",
    "m, n = df.shape\n",
    "print((m, n)) # m -> no of rows, n -> no of columns"
   ]
  },
  {
   "cell_type": "code",
   "execution_count": 4,
   "id": "3fbe5ab3",
   "metadata": {
    "execution": {
     "iopub.execute_input": "2025-09-14T14:28:13.637481Z",
     "iopub.status.busy": "2025-09-14T14:28:13.636768Z",
     "iopub.status.idle": "2025-09-14T14:28:13.642551Z",
     "shell.execute_reply": "2025-09-14T14:28:13.641757Z"
    },
    "papermill": {
     "duration": 0.010609,
     "end_time": "2025-09-14T14:28:13.644000",
     "exception": false,
     "start_time": "2025-09-14T14:28:13.633391",
     "status": "completed"
    },
    "tags": []
   },
   "outputs": [
    {
     "data": {
      "text/plain": [
       "array([[1, 0, 0, ..., 0, 0, 0],\n",
       "       [0, 0, 0, ..., 0, 0, 0],\n",
       "       [1, 0, 0, ..., 0, 0, 0],\n",
       "       ...,\n",
       "       [7, 0, 0, ..., 0, 0, 0],\n",
       "       [6, 0, 0, ..., 0, 0, 0],\n",
       "       [9, 0, 0, ..., 0, 0, 0]])"
      ]
     },
     "execution_count": 4,
     "metadata": {},
     "output_type": "execute_result"
    }
   ],
   "source": [
    "df"
   ]
  },
  {
   "cell_type": "code",
   "execution_count": 5,
   "id": "63bc3aad",
   "metadata": {
    "execution": {
     "iopub.execute_input": "2025-09-14T14:28:13.650684Z",
     "iopub.status.busy": "2025-09-14T14:28:13.650113Z",
     "iopub.status.idle": "2025-09-14T14:28:14.180250Z",
     "shell.execute_reply": "2025-09-14T14:28:14.179222Z"
    },
    "papermill": {
     "duration": 0.534948,
     "end_time": "2025-09-14T14:28:14.181798",
     "exception": false,
     "start_time": "2025-09-14T14:28:13.646850",
     "status": "completed"
    },
    "tags": []
   },
   "outputs": [
    {
     "name": "stdout",
     "output_type": "stream",
     "text": [
      "training set : X_train:(784, 33600), Y_train:(33600,), CV set: X_cv:(784, 8400), Y_cv(8400,)\n"
     ]
    }
   ],
   "source": [
    "# split data into train and cross-validation sets\n",
    "np.random.shuffle(df)\n",
    "\n",
    "# training set\n",
    "df_train = df[0:33600].T\n",
    "X_train = df_train[1:n]\n",
    "Y_train = df_train[0]\n",
    "\n",
    "df_cv = df[33600:42000].T\n",
    "X_cv = df_cv[1:n]\n",
    "Y_cv = df_cv[0]\n",
    "\n",
    "print(f\"training set : X_train:{X_train.shape}, Y_train:{Y_train.shape}, CV set: X_cv:{X_cv.shape}, Y_cv{Y_cv.shape}\")"
   ]
  },
  {
   "cell_type": "code",
   "execution_count": 6,
   "id": "8264de1e",
   "metadata": {
    "execution": {
     "iopub.execute_input": "2025-09-14T14:28:14.188645Z",
     "iopub.status.busy": "2025-09-14T14:28:14.188331Z",
     "iopub.status.idle": "2025-09-14T14:28:14.198469Z",
     "shell.execute_reply": "2025-09-14T14:28:14.197622Z"
    },
    "papermill": {
     "duration": 0.015132,
     "end_time": "2025-09-14T14:28:14.199824",
     "exception": false,
     "start_time": "2025-09-14T14:28:14.184692",
     "status": "completed"
    },
    "tags": []
   },
   "outputs": [],
   "source": [
    "# assign values for W_[1], b_[1] and W_[2], b_[2]\n",
    "def init_params():\n",
    "    W1 = np.random.randn(10, 784)\n",
    "    b1 = np.random.randn(10, 1)\n",
    "    W2 = np.random.randn(10, 10)\n",
    "    b2 = np.random.randn(10, 1)\n",
    "    return W1, b1, W2, b2\n",
    "\n",
    "# define relu activation function\n",
    "def ReLU(Z):\n",
    "    return np.maximum(0, Z)\n",
    "\n",
    "# define softmax function\n",
    "def softmax(Z):\n",
    "    expZ = np.exp(Z - np.max(Z, axis=0, keepdims=True))  # stability\n",
    "    return expZ / np.sum(expZ, axis=0, keepdims=True)\n",
    "\n",
    "# define the forward propagation\n",
    "def forward_prop(W1, b1, W2, b2, X):\n",
    "    # for input layer\n",
    "    Z1 = W1.dot(X) + b1\n",
    "    A1 = ReLU(Z1)\n",
    "     \n",
    "    # second hidden layer\n",
    "    Z2 = W2.dot(A1) + b2\n",
    "    A2 = softmax(Z2)\n",
    "\n",
    "    return Z1, A1, Z2, A2\n",
    "\n",
    "# one hot encoding\n",
    "def one_hot_encoding(Y):\n",
    "    one_hot_Y = np.zeros((Y.size, Y.max() + 1))\n",
    "    one_hot_Y[np.arange(Y.size), Y] = 1\n",
    "    one_hot_Y = one_hot_Y.T\n",
    "    return one_hot_Y\n",
    "\n",
    "# ReLU function: if Z <= 0 -> slop is 0 : Z > 0 -> slop is 1\n",
    "def deriv_ReLU(Z):\n",
    "    return Z > 0\n",
    "\n",
    "# define backward propagation\n",
    "def back_prop(Z1, A1, Z2, A2, W2, X, Y):\n",
    "    m = Y.size\n",
    "    one_hot_Y = one_hot_encoding(Y)\n",
    "    \n",
    "    dZ2 = A2 - one_hot_Y\n",
    "    dW2 = 1 / m * dZ2.dot(A1.T)\n",
    "    db2 = 1 / m * np.sum(dZ2, axis=1, keepdims=True)\n",
    "\n",
    "    dZ1 = W2.T.dot(dZ2) * deriv_ReLU(Z1)\n",
    "    dW1 = 1 / m * dZ1.dot(X.T)\n",
    "    db1 = 1 / m * np.sum(dZ1, axis=1, keepdims=True)\n",
    "    return dW1, db1, dW2, db2\n",
    "\n",
    "# update the new params based on each derivative\n",
    "def update_params(W1, b1, W2, b2, dW1, db1, dW2, db2, alpha):\n",
    "    W1 = W1 - alpha * dW1\n",
    "    b1 = b1 - alpha * db1\n",
    "    W2 = W2 - alpha * dW2\n",
    "    b2 = b2 - alpha * db2\n",
    "    return W1, b1, W2, b2"
   ]
  },
  {
   "cell_type": "code",
   "execution_count": 7,
   "id": "22bbdae6",
   "metadata": {
    "execution": {
     "iopub.execute_input": "2025-09-14T14:28:14.206546Z",
     "iopub.status.busy": "2025-09-14T14:28:14.206210Z",
     "iopub.status.idle": "2025-09-14T14:28:14.213922Z",
     "shell.execute_reply": "2025-09-14T14:28:14.212963Z"
    },
    "papermill": {
     "duration": 0.012776,
     "end_time": "2025-09-14T14:28:14.215432",
     "exception": false,
     "start_time": "2025-09-14T14:28:14.202656",
     "status": "completed"
    },
    "tags": []
   },
   "outputs": [],
   "source": [
    "def loss(X, Y, A2):\n",
    "    m = Y.size\n",
    "    log_likelihood = np.log(A2[Y, range(m)])\n",
    "    loss = 1 / m * np.sum(log_likelihood)\n",
    "    return loss\n",
    "\n",
    "def get_preds(A2):\n",
    "    return np.argmax(A2, 0)\n",
    "\n",
    "def get_accuracy(preds, Y):\n",
    "    print(preds, Y)\n",
    "    return np.sum(preds == Y) / Y.size\n",
    "\n",
    "# Implement the Gradient Descent Algorithm for the Neural Network\n",
    "def gradient_descent(X, Y, iterations, alpha):\n",
    "    W1, b1, W2, b2 = init_params()\n",
    "    for i in range(iterations):\n",
    "        Z1, A1, Z2, A2 = forward_prop(W1, b1, W2, b2, X)\n",
    "        dW1, db1, dW2, db2 = back_prop(Z1, A1, Z2, A2, W2, X, Y)\n",
    "        W1, b1, W2, b2 = update_params(W1, b1, W2, b2, dW1, db1, dW2, db2, alpha)\n",
    "        if i % 10 == 0: # print accuracy and iteration no per 10 rounds\n",
    "            print(f\"Iteration: {i}\\nAccuracy: {get_accuracy(get_preds(A2), Y):.6f}\")\n",
    "    return W1, b1, W2, b2"
   ]
  },
  {
   "cell_type": "code",
   "execution_count": 8,
   "id": "2f81a6a0",
   "metadata": {
    "execution": {
     "iopub.execute_input": "2025-09-14T14:28:14.222095Z",
     "iopub.status.busy": "2025-09-14T14:28:14.221796Z",
     "iopub.status.idle": "2025-09-14T14:28:33.738393Z",
     "shell.execute_reply": "2025-09-14T14:28:33.737568Z"
    },
    "papermill": {
     "duration": 19.521717,
     "end_time": "2025-09-14T14:28:33.740076",
     "exception": false,
     "start_time": "2025-09-14T14:28:14.218359",
     "status": "completed"
    },
    "tags": []
   },
   "outputs": [
    {
     "name": "stdout",
     "output_type": "stream",
     "text": [
      "[2 7 2 ... 7 2 2] [3 7 0 ... 7 7 4]\n",
      "Iteration: 0\n",
      "Accuracy: 0.128690\n",
      "[4 4 4 ... 4 4 4] [3 7 0 ... 7 7 4]\n",
      "Iteration: 10\n",
      "Accuracy: 0.097738\n",
      "[4 4 4 ... 4 4 4] [3 7 0 ... 7 7 4]\n",
      "Iteration: 20\n",
      "Accuracy: 0.097738\n",
      "[4 4 4 ... 4 4 4] [3 7 0 ... 7 7 4]\n",
      "Iteration: 30\n",
      "Accuracy: 0.097738\n",
      "[4 4 4 ... 4 4 4] [3 7 0 ... 7 7 4]\n",
      "Iteration: 40\n",
      "Accuracy: 0.097738\n",
      "[4 4 4 ... 4 4 4] [3 7 0 ... 7 7 4]\n",
      "Iteration: 50\n",
      "Accuracy: 0.097738\n",
      "[4 4 4 ... 4 4 4] [3 7 0 ... 7 7 4]\n",
      "Iteration: 60\n",
      "Accuracy: 0.097738\n",
      "[4 4 4 ... 4 4 4] [3 7 0 ... 7 7 4]\n",
      "Iteration: 70\n",
      "Accuracy: 0.097738\n",
      "[4 4 4 ... 4 4 4] [3 7 0 ... 7 7 4]\n",
      "Iteration: 80\n",
      "Accuracy: 0.097738\n",
      "[4 4 4 ... 4 4 4] [3 7 0 ... 7 7 4]\n",
      "Iteration: 90\n",
      "Accuracy: 0.097738\n"
     ]
    }
   ],
   "source": [
    "# run gradient descent algorithm\n",
    "W1, b1, W2, b2 = gradient_descent(X_train, Y_train, 100, 0.1)"
   ]
  }
 ],
 "metadata": {
  "kaggle": {
   "accelerator": "none",
   "dataSources": [
    {
     "datasetId": 3147,
     "sourceId": 5196,
     "sourceType": "datasetVersion"
    }
   ],
   "dockerImageVersionId": 31089,
   "isGpuEnabled": false,
   "isInternetEnabled": false,
   "language": "python",
   "sourceType": "notebook"
  },
  "kernelspec": {
   "display_name": "Python 3",
   "language": "python",
   "name": "python3"
  },
  "language_info": {
   "codemirror_mode": {
    "name": "ipython",
    "version": 3
   },
   "file_extension": ".py",
   "mimetype": "text/x-python",
   "name": "python",
   "nbconvert_exporter": "python",
   "pygments_lexer": "ipython3",
   "version": "3.11.13"
  },
  "papermill": {
   "default_parameters": {},
   "duration": 30.868856,
   "end_time": "2025-09-14T14:28:34.262308",
   "environment_variables": {},
   "exception": null,
   "input_path": "__notebook__.ipynb",
   "output_path": "__notebook__.ipynb",
   "parameters": {},
   "start_time": "2025-09-14T14:28:03.393452",
   "version": "2.6.0"
  }
 },
 "nbformat": 4,
 "nbformat_minor": 5
}
